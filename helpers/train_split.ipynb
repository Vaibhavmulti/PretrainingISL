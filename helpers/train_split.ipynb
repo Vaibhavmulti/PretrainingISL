{
 "cells": [
  {
   "cell_type": "code",
   "execution_count": 1,
   "metadata": {},
   "outputs": [
    {
     "ename": "ParserError",
     "evalue": "Error tokenizing data. C error: Calling read(nbytes) on source failed. Try engine='python'.",
     "output_type": "error",
     "traceback": [
      "\u001b[0;31m---------------------------------------------------------------------------\u001b[0m",
      "\u001b[0;31mParserError\u001b[0m                               Traceback (most recent call last)",
      "Cell \u001b[0;32mIn[1], line 6\u001b[0m\n\u001b[1;32m      3\u001b[0m csv_path \u001b[38;5;241m=\u001b[39m \u001b[38;5;124m\"\u001b[39m\u001b[38;5;124m/DATA1007/sanjeet/ISL/tokenizer_file/22_M_sentences_with_uids_list_of_list.csv\u001b[39m\u001b[38;5;124m\"\u001b[39m\n\u001b[1;32m      5\u001b[0m df \u001b[38;5;241m=\u001b[39m pd\u001b[38;5;241m.\u001b[39mread_csv(csv_path)\n\u001b[0;32m----> 6\u001b[0m df1 \u001b[38;5;241m=\u001b[39m \u001b[43mpd\u001b[49m\u001b[38;5;241;43m.\u001b[39;49m\u001b[43mread_csv\u001b[49m\u001b[43m(\u001b[49m\u001b[43mcsv_pathour\u001b[49m\u001b[43m)\u001b[49m    \n",
      "File \u001b[0;32m~/miniconda3/envs/nmt2/lib/python3.10/site-packages/pandas/io/parsers/readers.py:1026\u001b[0m, in \u001b[0;36mread_csv\u001b[0;34m(filepath_or_buffer, sep, delimiter, header, names, index_col, usecols, dtype, engine, converters, true_values, false_values, skipinitialspace, skiprows, skipfooter, nrows, na_values, keep_default_na, na_filter, verbose, skip_blank_lines, parse_dates, infer_datetime_format, keep_date_col, date_parser, date_format, dayfirst, cache_dates, iterator, chunksize, compression, thousands, decimal, lineterminator, quotechar, quoting, doublequote, escapechar, comment, encoding, encoding_errors, dialect, on_bad_lines, delim_whitespace, low_memory, memory_map, float_precision, storage_options, dtype_backend)\u001b[0m\n\u001b[1;32m   1013\u001b[0m kwds_defaults \u001b[38;5;241m=\u001b[39m _refine_defaults_read(\n\u001b[1;32m   1014\u001b[0m     dialect,\n\u001b[1;32m   1015\u001b[0m     delimiter,\n\u001b[0;32m   (...)\u001b[0m\n\u001b[1;32m   1022\u001b[0m     dtype_backend\u001b[38;5;241m=\u001b[39mdtype_backend,\n\u001b[1;32m   1023\u001b[0m )\n\u001b[1;32m   1024\u001b[0m kwds\u001b[38;5;241m.\u001b[39mupdate(kwds_defaults)\n\u001b[0;32m-> 1026\u001b[0m \u001b[38;5;28;01mreturn\u001b[39;00m \u001b[43m_read\u001b[49m\u001b[43m(\u001b[49m\u001b[43mfilepath_or_buffer\u001b[49m\u001b[43m,\u001b[49m\u001b[43m \u001b[49m\u001b[43mkwds\u001b[49m\u001b[43m)\u001b[49m\n",
      "File \u001b[0;32m~/miniconda3/envs/nmt2/lib/python3.10/site-packages/pandas/io/parsers/readers.py:626\u001b[0m, in \u001b[0;36m_read\u001b[0;34m(filepath_or_buffer, kwds)\u001b[0m\n\u001b[1;32m    623\u001b[0m     \u001b[38;5;28;01mreturn\u001b[39;00m parser\n\u001b[1;32m    625\u001b[0m \u001b[38;5;28;01mwith\u001b[39;00m parser:\n\u001b[0;32m--> 626\u001b[0m     \u001b[38;5;28;01mreturn\u001b[39;00m \u001b[43mparser\u001b[49m\u001b[38;5;241;43m.\u001b[39;49m\u001b[43mread\u001b[49m\u001b[43m(\u001b[49m\u001b[43mnrows\u001b[49m\u001b[43m)\u001b[49m\n",
      "File \u001b[0;32m~/miniconda3/envs/nmt2/lib/python3.10/site-packages/pandas/io/parsers/readers.py:1923\u001b[0m, in \u001b[0;36mTextFileReader.read\u001b[0;34m(self, nrows)\u001b[0m\n\u001b[1;32m   1916\u001b[0m nrows \u001b[38;5;241m=\u001b[39m validate_integer(\u001b[38;5;124m\"\u001b[39m\u001b[38;5;124mnrows\u001b[39m\u001b[38;5;124m\"\u001b[39m, nrows)\n\u001b[1;32m   1917\u001b[0m \u001b[38;5;28;01mtry\u001b[39;00m:\n\u001b[1;32m   1918\u001b[0m     \u001b[38;5;66;03m# error: \"ParserBase\" has no attribute \"read\"\u001b[39;00m\n\u001b[1;32m   1919\u001b[0m     (\n\u001b[1;32m   1920\u001b[0m         index,\n\u001b[1;32m   1921\u001b[0m         columns,\n\u001b[1;32m   1922\u001b[0m         col_dict,\n\u001b[0;32m-> 1923\u001b[0m     ) \u001b[38;5;241m=\u001b[39m \u001b[38;5;28;43mself\u001b[39;49m\u001b[38;5;241;43m.\u001b[39;49m\u001b[43m_engine\u001b[49m\u001b[38;5;241;43m.\u001b[39;49m\u001b[43mread\u001b[49m\u001b[43m(\u001b[49m\u001b[43m  \u001b[49m\u001b[38;5;66;43;03m# type: ignore[attr-defined]\u001b[39;49;00m\n\u001b[1;32m   1924\u001b[0m \u001b[43m        \u001b[49m\u001b[43mnrows\u001b[49m\n\u001b[1;32m   1925\u001b[0m \u001b[43m    \u001b[49m\u001b[43m)\u001b[49m\n\u001b[1;32m   1926\u001b[0m \u001b[38;5;28;01mexcept\u001b[39;00m \u001b[38;5;167;01mException\u001b[39;00m:\n\u001b[1;32m   1927\u001b[0m     \u001b[38;5;28mself\u001b[39m\u001b[38;5;241m.\u001b[39mclose()\n",
      "File \u001b[0;32m~/miniconda3/envs/nmt2/lib/python3.10/site-packages/pandas/io/parsers/c_parser_wrapper.py:234\u001b[0m, in \u001b[0;36mCParserWrapper.read\u001b[0;34m(self, nrows)\u001b[0m\n\u001b[1;32m    232\u001b[0m \u001b[38;5;28;01mtry\u001b[39;00m:\n\u001b[1;32m    233\u001b[0m     \u001b[38;5;28;01mif\u001b[39;00m \u001b[38;5;28mself\u001b[39m\u001b[38;5;241m.\u001b[39mlow_memory:\n\u001b[0;32m--> 234\u001b[0m         chunks \u001b[38;5;241m=\u001b[39m \u001b[38;5;28;43mself\u001b[39;49m\u001b[38;5;241;43m.\u001b[39;49m\u001b[43m_reader\u001b[49m\u001b[38;5;241;43m.\u001b[39;49m\u001b[43mread_low_memory\u001b[49m\u001b[43m(\u001b[49m\u001b[43mnrows\u001b[49m\u001b[43m)\u001b[49m\n\u001b[1;32m    235\u001b[0m         \u001b[38;5;66;03m# destructive to chunks\u001b[39;00m\n\u001b[1;32m    236\u001b[0m         data \u001b[38;5;241m=\u001b[39m _concatenate_chunks(chunks)\n",
      "File \u001b[0;32mparsers.pyx:838\u001b[0m, in \u001b[0;36mpandas._libs.parsers.TextReader.read_low_memory\u001b[0;34m()\u001b[0m\n",
      "File \u001b[0;32mparsers.pyx:905\u001b[0m, in \u001b[0;36mpandas._libs.parsers.TextReader._read_rows\u001b[0;34m()\u001b[0m\n",
      "File \u001b[0;32mparsers.pyx:874\u001b[0m, in \u001b[0;36mpandas._libs.parsers.TextReader._tokenize_rows\u001b[0;34m()\u001b[0m\n",
      "File \u001b[0;32mparsers.pyx:891\u001b[0m, in \u001b[0;36mpandas._libs.parsers.TextReader._check_tokenize_status\u001b[0;34m()\u001b[0m\n",
      "File \u001b[0;32mparsers.pyx:2061\u001b[0m, in \u001b[0;36mpandas._libs.parsers.raise_parser_error\u001b[0;34m()\u001b[0m\n",
      "\u001b[0;31mParserError\u001b[0m: Error tokenizing data. C error: Calling read(nbytes) on source failed. Try engine='python'."
     ]
    }
   ],
   "source": [
    "import pandas as pd\n",
    "csv_pathour = '/DATA1007/vaibhav/tokenization/CISLR/train.csv'\n",
    "csv_path = \"/DATA1007/sanjeet/ISL/tokenizer_file/22_M_sentences_with_uids_list_of_list.csv\"\n",
    "\n",
    "df = pd.read_csv(csv_path)\n",
    "df1 = pd.read_csv(csv_pathour)    \n",
    "\n"
   ]
  },
  {
   "cell_type": "code",
   "execution_count": 5,
   "metadata": {},
   "outputs": [],
   "source": [
    "import pandas as pd\n",
    "import matplotlib.pyplot as plt\n",
    "from statistics import mean, median\n",
    "\n",
    "# Load CSV (replace \"my_file.csv\" with your file)\n",
    "#df = pd.read_csv(\"/DATA1007/sanjeet/ISL/tokenizer_file/22_M_sentences_with_uids_list_of_list.csv\")\n",
    "df = pd.read_csv(\"/DATA1007/vaibhav/tokenization/CISLR/train.csv\")\n"
   ]
  },
  {
   "cell_type": "code",
   "execution_count": 16,
   "metadata": {},
   "outputs": [],
   "source": [
    "import pandas as pd\n",
    "csv_path = \"/DATA3/vaibhav/isign/97CISLR/test.csv\"\n",
    "df = pd.read_csv(csv_path)\n"
   ]
  },
  {
   "cell_type": "code",
   "execution_count": 19,
   "metadata": {},
   "outputs": [
    {
     "name": "stdout",
     "output_type": "stream",
     "text": [
      "0    [['AEfFAtmkt6o', 'h0J-0nV_CoA_1'], ['Gm2HCSz7J...\n",
      "1    [['AEfFAtmkt6o', 'h0J-0nV_CoA_1'], ['SKlTYkUBV...\n",
      "2    [['AEfFAtmkt6o', 'h0J-0nV_CoA_1'], ['kusWSSN4x...\n",
      "Name: uid_list, dtype: object\n"
     ]
    }
   ],
   "source": [
    "#print(df.head())\n",
    "print(df['uid_list'][:3])"
   ]
  },
  {
   "cell_type": "code",
   "execution_count": 28,
   "metadata": {},
   "outputs": [
    {
     "name": "stdout",
     "output_type": "stream",
     "text": [
      "                          sentence_good  \\\n",
      "0         The people hide these people.   \n",
      "1          The people drive some plane.   \n",
      "2  The children shoot some grandmother.   \n",
      "3                    The people appear.   \n",
      "4                 The children protest.   \n",
      "\n",
      "                                       source_file  sentence_id  \\\n",
      "0  irregular_plural_subject_verb_agreement_2.jsonl            0   \n",
      "1  irregular_plural_subject_verb_agreement_2.jsonl            1   \n",
      "2  irregular_plural_subject_verb_agreement_2.jsonl            2   \n",
      "3  irregular_plural_subject_verb_agreement_2.jsonl            3   \n",
      "4  irregular_plural_subject_verb_agreement_2.jsonl            4   \n",
      "\n",
      "                                 tokenized_sentences  \\\n",
      "0       ['the', 'people', 'hide', 'these', 'people']   \n",
      "1        ['the', 'people', 'drive', 'some', 'plane']   \n",
      "2  ['the', 'children', 'shoot', 'some', 'grandmot...   \n",
      "3                        ['the', 'people', 'appear']   \n",
      "4                     ['the', 'children', 'protest']   \n",
      "\n",
      "                                                uids  \n",
      "0  [[], ['n7sdyYH_Vss'], ['CKRWnL9qBDo_1'], ['QXR...  \n",
      "1  [[], ['n7sdyYH_Vss'], ['sLLQkt04ZiQ'], ['mPyRI...  \n",
      "2  [[], ['pWeJhQGITxI_1'], ['XdNhZENdMvM'], ['mPy...  \n",
      "3           [[], ['n7sdyYH_Vss'], ['baqITtRxH5U_1']]  \n",
      "4         [[], ['pWeJhQGITxI_1'], ['pQ0xpEJDynQ_1']]  \n"
     ]
    }
   ],
   "source": [
    "print(df.head())"
   ]
  },
  {
   "cell_type": "code",
   "execution_count": 41,
   "metadata": {},
   "outputs": [
    {
     "data": {
      "image/png": "[encoded data removed]",
      "text/plain": [
       "<Figure size 640x480 with 1 Axes>"
      ]
     },
     "metadata": {},
     "output_type": "display_data"
    }
   ],
   "source": [
    "\n",
    "# Count words in each sentence\n",
    "word_counts = df[\"text\"].fillna(\"\").str.split().str.len()\n",
    "\n",
    "# Plot histogram\n",
    "plt.hist(word_counts, bins=30, edgecolor=\"black\")\n",
    "plt.xlabel(\"Number of Words\")\n",
    "plt.ylabel(\"Frequency\")\n",
    "plt.title(\"Distribution of Sentence Lengths (Word Count)\")\n",
    "plt.axvline(mean(word_counts), color=\"red\", linestyle=\"--\", label=f\"Mean: {mean(word_counts):.1f}\")\n",
    "plt.axvline(median(word_counts), color=\"green\", linestyle=\"--\", label=f\"Median: {median(word_counts):.1f}\")\n",
    "plt.legend()\n",
    "plt.tight_layout()\n",
    "plt.show()"
   ]
  },
  {
   "cell_type": "code",
   "execution_count": 30,
   "metadata": {},
   "outputs": [
    {
     "name": "stdout",
     "output_type": "stream",
     "text": [
      "{2: 15, 3: 582, 4: 13522, 5: 218617, 6: 1943015, 7: 8548435, 8: 2670343, 9: 359540, 10: 739367, 11: 930736, 12: 148025, 13: 225019, 14: 527424, 15: 401155, 16: 1189154, 17: 334524, 18: 108587, 19: 146547, 20: 149880, 21: 162523, 22: 60357, 23: 241829, 24: 71540, 25: 148330, 26: 153530, 27: 159361, 28: 63270, 29: 239194, 30: 70365, 31: 151944, 32: 146886, 33: 161421, 34: 67559, 35: 297260, 36: 83932, 37: 152261, 38: 154207, 39: 157789, 40: 56001, 41: 102623, 42: 36732, 43: 8573, 44: 94772, 45: 18530, 46: 8573, 47: 94772, 48: 18530, 49: 15449, 50: 175374, 51: 36490, 52: 13993, 53: 105789, 54: 18530, 55: 5135, 56: 11496}\n"
     ]
    }
   ],
   "source": [
    "\n",
    "word_counts = df[\"sentence_good\"].fillna(\"\").str.split().str.len()\n",
    "length_distribution = word_counts.value_counts().to_dict()\n",
    "\n",
    "# Sort dictionary by keys (sentence lengths)\n",
    "sorted_length_distribution = dict(sorted(length_distribution.items(), key=lambda x: x[0]))\n",
    "\n",
    "print(sorted_length_distribution)"
   ]
  },
  {
   "cell_type": "code",
   "execution_count": null,
   "metadata": {},
   "outputs": [],
   "source": []
  },
  {
   "cell_type": "code",
   "execution_count": 34,
   "metadata": {},
   "outputs": [
    {
     "name": "stdout",
     "output_type": "stream",
     "text": [
      "Number of sentences above 20 words: 3564920\n"
     ]
    }
   ],
   "source": [
    "import pandas as pd\n",
    "\n",
    "word_counts = df[\"sentence_good\"].fillna(\"\").str.split().str.len()\n",
    "\n",
    "above_20 = word_counts[word_counts > 20]\n",
    "print(f\"Number of sentences above 20 words: {len(above_20)}\")"
   ]
  },
  {
   "cell_type": "code",
   "execution_count": 11,
   "metadata": {},
   "outputs": [
    {
     "name": "stdout",
     "output_type": "stream",
     "text": [
      "12984390    some that that some some that this some some s...\n",
      "19044590    that that this some some lady should wear one ...\n",
      "6173567       all some  all  all  some all these those  th...\n",
      "15910443    that that some some some that this some some s...\n",
      "14122794      all some  all  all  some all these those  th...\n",
      "Name: text, dtype: object\n"
     ]
    }
   ],
   "source": [
    "word_counts = df[\"sentence_good\"].fillna(\"\").str.split().str.len()\n",
    "\n",
    "# Filter out sentences with more than 20 words\n",
    "above_20 = df.loc[word_counts < 10, \"text\"]\n",
    "\n",
    "# Random sample of 5 sentences\n",
    "sample_sentences = above_20.sample(5, random_state=42)\n",
    "print(sample_sentences)"
   ]
  },
  {
   "cell_type": "code",
   "execution_count": 12,
   "metadata": {},
   "outputs": [
    {
     "name": "stdout",
     "output_type": "stream",
     "text": [
      "  all some  all  all  some all these those  those children might wear one narrow dress and this this some this that this that some some that this this this that some boy might wear three.\n"
     ]
    }
   ],
   "source": [
    "print(df['text'][14122794])"
   ]
  },
  {
   "cell_type": "code",
   "execution_count": 1,
   "metadata": {},
   "outputs": [],
   "source": [
    "import pandas as pd\n",
    "from sklearn.model_selection import train_test_split\n"
   ]
  },
  {
   "cell_type": "code",
   "execution_count": 2,
   "metadata": {},
   "outputs": [],
   "source": [
    "import pandas as pd\n",
    "from sklearn.model_selection import train_test_split\n",
    "\n",
    "def create_fixed_splits(csv_path, output_dir, test_val_samples=7500, seed=42):\n",
    "    # Read data\n",
    "    df = pd.read_csv(csv_path)\n",
    "\n",
    "    # Rename needed columns\n",
    "    df = df.rename(columns={'final_sentence_raw': 'text', 'uids': 'uid_list'})\n",
    "\n",
    "    # Drop unnecessary columns\n",
    "    #columns_to_drop = ['source_file', 'sentence_id', 'tokenized_sentences']\n",
    "    #columns_to_drop = ['Processed_Sentence', 'Removed_Word_Count', 'Removed_Percentage','Matched_Percentage', 'sentence_id'\t,'tokenized_sentences']\n",
    "    columns_to_drop = ['sentence_good'\t,'Processed_Sentence',\t'Removed_Word_Count',\t\n",
    "                       'Removed_Percentage',\t'Matched_Percentage',\t'sentence_id',\t\n",
    "                       'tokenized_sentences', 'processed_sentence',\t'name_normalized_sentence', \t\n",
    "                       'final_sentence']\n",
    "    df = df.drop(columns=columns_to_drop)\n",
    "    print(f\"Before filtering >30-word sentences, total samples: {len(df):,}\")\n",
    "    \n",
    "    # Filter rows where sentence has more than 20 words\n",
    "    word_counts = df[\"text\"].fillna(\"\").str.split().str.len()\n",
    "    df = df[word_counts <= 30]\n",
    "\n",
    "    # First split: separate test set\n",
    "    remaining_df, test_df = train_test_split(\n",
    "        df,\n",
    "        test_size=test_val_samples,\n",
    "        random_state=seed,\n",
    "        shuffle=True\n",
    "    )\n",
    "\n",
    "    # Second split: separate validation set\n",
    "    train_df, val_df = train_test_split(\n",
    "        remaining_df,\n",
    "        test_size=test_val_samples,\n",
    "        random_state=seed,\n",
    "        shuffle=True\n",
    "    )\n",
    "\n",
    "    # Save splits\n",
    "    train_df.to_csv(f\"{output_dir}/train_MT_dedup.csv\", index=False)\n",
    "    val_df.to_csv(f\"{output_dir}/val_MT_dedup.csv\", index=False)\n",
    "    test_df.to_csv(f\"{output_dir}/test_MT_dedup.csv\", index=False)\n",
    "\n",
    "    print(f\"After filtering >30-word sentences, total samples: {len(df):,}\")\n",
    "    print(f\"Training samples: {len(train_df):,}\")\n",
    "    print(f\"Validation samples: {len(val_df):,}\")\n",
    "    print(f\"Testing samples: {len(test_df):,}\")\n"
   ]
  },
  {
   "cell_type": "code",
   "execution_count": 17,
   "metadata": {},
   "outputs": [
    {
     "name": "stdout",
     "output_type": "stream",
     "text": [
      "2\n"
     ]
    }
   ],
   "source": [
    "print(len(df))"
   ]
  },
  {
   "cell_type": "code",
   "execution_count": 4,
   "metadata": {},
   "outputs": [
    {
     "name": "stdout",
     "output_type": "stream",
     "text": [
      "Before filtering >30-word sentences, total samples: 591,904\n",
      "After filtering >30-word sentences, total samples: 591,692\n",
      "Training samples: 576,692\n",
      "Validation samples: 7,500\n",
      "Testing samples: 7,500\n"
     ]
    }
   ],
   "source": [
    "\n",
    "# Usage example\n",
    "csv_path = \"/DATACSEShare/sanjeet/Dataset/Sign_lanuguage_data_set/AI4Bharat_sentence_MT/Final_Processed_raw_sentences_MT_without_duplicates.csv\"\n",
    "output_dir = \"/DATA3/vaibhav/isign/PretrainingISL/\"\n",
    "create_fixed_splits(csv_path, output_dir)"
   ]
  },
  {
   "cell_type": "code",
   "execution_count": 1,
   "metadata": {},
   "outputs": [],
   "source": [
    "import pandas as pd\n",
    "isign_prev = pd.read_csv(\"/DATA7/vaibhav/tokenization/train_split_unicode_filtered.csv\")\n",
    "isign_new = pd.read_csv(\"/DATACSEShare/sanjeet/Dataset/Sign_lanuguage_data_set/isign/Final_Processed_raw_sentences_isign.csv\")"
   ]
  },
  {
   "cell_type": "code",
   "execution_count": 2,
   "metadata": {},
   "outputs": [],
   "source": [
    "# Change the column name from final_sentence_raw to text\n",
    "isign_new = isign_new.rename(columns={'final_sentence_raw': 'text', 'text': 'previous_text'})\n",
    "# Save the new file\n",
    "isign_new.to_csv(\"/DATA3/vaibhav/isign/PretrainingISL/isign_new.csv\", index=False)"
   ]
  },
  {
   "cell_type": "code",
   "execution_count": null,
   "metadata": {},
   "outputs": [],
   "source": []
  },
  {
   "cell_type": "code",
   "execution_count": 4,
   "metadata": {},
   "outputs": [
    {
     "data": {
      "text/html": [
       "<div>\n",
       "<style scoped>\n",
       "    .dataframe tbody tr th:only-of-type {\n",
       "        vertical-align: middle;\n",
       "    }\n",
       "\n",
       "    .dataframe tbody tr th {\n",
       "        vertical-align: top;\n",
       "    }\n",
       "\n",
       "    .dataframe thead th {\n",
       "        text-align: right;\n",
       "    }\n",
       "</style>\n",
       "<table border=\"1\" class=\"dataframe\">\n",
       "  <thead>\n",
       "    <tr style=\"text-align: right;\">\n",
       "      <th></th>\n",
       "      <th>uid</th>\n",
       "      <th>text</th>\n",
       "      <th>video_id</th>\n",
       "      <th>split</th>\n",
       "    </tr>\n",
       "  </thead>\n",
       "  <tbody>\n",
       "    <tr>\n",
       "      <th>0</th>\n",
       "      <td>1782bea75c7d-3</td>\n",
       "      <td>One day, Akbar drew a line on the floor and or...</td>\n",
       "      <td>1782bea75c7d</td>\n",
       "      <td>train</td>\n",
       "    </tr>\n",
       "    <tr>\n",
       "      <th>1</th>\n",
       "      <td>1782bea75c7d-5</td>\n",
       "      <td>but don't rub out any part of it.</td>\n",
       "      <td>1782bea75c7d</td>\n",
       "      <td>train</td>\n",
       "    </tr>\n",
       "    <tr>\n",
       "      <th>2</th>\n",
       "      <td>1782bea75c7d-6</td>\n",
       "      <td>No one knew what to do.</td>\n",
       "      <td>1782bea75c7d</td>\n",
       "      <td>train</td>\n",
       "    </tr>\n",
       "    <tr>\n",
       "      <th>3</th>\n",
       "      <td>1782bea75c7d-7</td>\n",
       "      <td>Each minister looked at the line and was puzzled.</td>\n",
       "      <td>1782bea75c7d</td>\n",
       "      <td>train</td>\n",
       "    </tr>\n",
       "    <tr>\n",
       "      <th>4</th>\n",
       "      <td>1782bea75c7d-8</td>\n",
       "      <td>No one could think of any way to make it longer.</td>\n",
       "      <td>1782bea75c7d</td>\n",
       "      <td>train</td>\n",
       "    </tr>\n",
       "  </tbody>\n",
       "</table>\n",
       "</div>"
      ],
      "text/plain": [
       "              uid                                               text  \\\n",
       "0  1782bea75c7d-3  One day, Akbar drew a line on the floor and or...   \n",
       "1  1782bea75c7d-5                  but don't rub out any part of it.   \n",
       "2  1782bea75c7d-6                            No one knew what to do.   \n",
       "3  1782bea75c7d-7  Each minister looked at the line and was puzzled.   \n",
       "4  1782bea75c7d-8   No one could think of any way to make it longer.   \n",
       "\n",
       "       video_id  split  \n",
       "0  1782bea75c7d  train  \n",
       "1  1782bea75c7d  train  \n",
       "2  1782bea75c7d  train  \n",
       "3  1782bea75c7d  train  \n",
       "4  1782bea75c7d  train  "
      ]
     },
     "execution_count": 4,
     "metadata": {},
     "output_type": "execute_result"
    }
   ],
   "source": [
    "isign_prev.head()\n"
   ]
  },
  {
   "cell_type": "code",
   "execution_count": 5,
   "metadata": {},
   "outputs": [
    {
     "data": {
      "text/html": [
       "<div>\n",
       "<style scoped>\n",
       "    .dataframe tbody tr th:only-of-type {\n",
       "        vertical-align: middle;\n",
       "    }\n",
       "\n",
       "    .dataframe tbody tr th {\n",
       "        vertical-align: top;\n",
       "    }\n",
       "\n",
       "    .dataframe thead th {\n",
       "        text-align: right;\n",
       "    }\n",
       "</style>\n",
       "<table border=\"1\" class=\"dataframe\">\n",
       "  <thead>\n",
       "    <tr style=\"text-align: right;\">\n",
       "      <th></th>\n",
       "      <th>uid</th>\n",
       "      <th>text</th>\n",
       "      <th>video_id</th>\n",
       "      <th>split</th>\n",
       "      <th>processed_sentence</th>\n",
       "      <th>name_normalized_sentence</th>\n",
       "      <th>final_sentence</th>\n",
       "      <th>final_sentence_raw</th>\n",
       "    </tr>\n",
       "  </thead>\n",
       "  <tbody>\n",
       "    <tr>\n",
       "      <th>0</th>\n",
       "      <td>1782bea75c7d-3</td>\n",
       "      <td>One day, Akbar drew a line on the floor and or...</td>\n",
       "      <td>1782bea75c7d</td>\n",
       "      <td>train</td>\n",
       "      <td>one day akbar draw a line on the floor and order</td>\n",
       "      <td>one day &lt;PERSON&gt; draw a line on the floor and ...</td>\n",
       "      <td>one day &lt;PERSON&gt; draw a line on the floor and ...</td>\n",
       "      <td>one day &lt;PERSON&gt; drew a line on the floor and ...</td>\n",
       "    </tr>\n",
       "    <tr>\n",
       "      <th>1</th>\n",
       "      <td>1782bea75c7d-5</td>\n",
       "      <td>but don't rub out any part of it.</td>\n",
       "      <td>1782bea75c7d</td>\n",
       "      <td>train</td>\n",
       "      <td>but do not rub out any part of it</td>\n",
       "      <td>but do not rub out any part of it</td>\n",
       "      <td>but do not rub out any part of it</td>\n",
       "      <td>but do not rub out any part of it</td>\n",
       "    </tr>\n",
       "    <tr>\n",
       "      <th>2</th>\n",
       "      <td>1782bea75c7d-6</td>\n",
       "      <td>No one knew what to do.</td>\n",
       "      <td>1782bea75c7d</td>\n",
       "      <td>train</td>\n",
       "      <td>no one know what to do</td>\n",
       "      <td>no one know what to do</td>\n",
       "      <td>no one know what to do</td>\n",
       "      <td>no one knew what to do</td>\n",
       "    </tr>\n",
       "    <tr>\n",
       "      <th>3</th>\n",
       "      <td>1782bea75c7d-7</td>\n",
       "      <td>Each minister looked at the line and was puzzled.</td>\n",
       "      <td>1782bea75c7d</td>\n",
       "      <td>train</td>\n",
       "      <td>each minister look at the line and be puzzle</td>\n",
       "      <td>each minister look at the line and be puzzle</td>\n",
       "      <td>each minister look at the line and be puzzle</td>\n",
       "      <td>each minister looked at the line and was puzzled</td>\n",
       "    </tr>\n",
       "    <tr>\n",
       "      <th>4</th>\n",
       "      <td>1782bea75c7d-8</td>\n",
       "      <td>No one could think of any way to make it longer.</td>\n",
       "      <td>1782bea75c7d</td>\n",
       "      <td>train</td>\n",
       "      <td>no one could think of any way to make it longer</td>\n",
       "      <td>no one could think of any way to make it longer</td>\n",
       "      <td>no one could think of any way to make it longer</td>\n",
       "      <td>no one could think of any way to make it longer</td>\n",
       "    </tr>\n",
       "  </tbody>\n",
       "</table>\n",
       "</div>"
      ],
      "text/plain": [
       "              uid                                               text  \\\n",
       "0  1782bea75c7d-3  One day, Akbar drew a line on the floor and or...   \n",
       "1  1782bea75c7d-5                  but don't rub out any part of it.   \n",
       "2  1782bea75c7d-6                            No one knew what to do.   \n",
       "3  1782bea75c7d-7  Each minister looked at the line and was puzzled.   \n",
       "4  1782bea75c7d-8   No one could think of any way to make it longer.   \n",
       "\n",
       "       video_id  split                                processed_sentence  \\\n",
       "0  1782bea75c7d  train  one day akbar draw a line on the floor and order   \n",
       "1  1782bea75c7d  train                 but do not rub out any part of it   \n",
       "2  1782bea75c7d  train                            no one know what to do   \n",
       "3  1782bea75c7d  train      each minister look at the line and be puzzle   \n",
       "4  1782bea75c7d  train   no one could think of any way to make it longer   \n",
       "\n",
       "                            name_normalized_sentence  \\\n",
       "0  one day <PERSON> draw a line on the floor and ...   \n",
       "1                  but do not rub out any part of it   \n",
       "2                             no one know what to do   \n",
       "3       each minister look at the line and be puzzle   \n",
       "4    no one could think of any way to make it longer   \n",
       "\n",
       "                                      final_sentence  \\\n",
       "0  one day <PERSON> draw a line on the floor and ...   \n",
       "1                  but do not rub out any part of it   \n",
       "2                             no one know what to do   \n",
       "3       each minister look at the line and be puzzle   \n",
       "4    no one could think of any way to make it longer   \n",
       "\n",
       "                                  final_sentence_raw  \n",
       "0  one day <PERSON> drew a line on the floor and ...  \n",
       "1                  but do not rub out any part of it  \n",
       "2                             no one knew what to do  \n",
       "3   each minister looked at the line and was puzzled  \n",
       "4    no one could think of any way to make it longer  "
      ]
     },
     "execution_count": 5,
     "metadata": {},
     "output_type": "execute_result"
    }
   ],
   "source": [
    "isign_new.head()"
   ]
  },
  {
   "cell_type": "code",
   "execution_count": 1,
   "metadata": {},
   "outputs": [
    {
     "ename": "NameError",
     "evalue": "name 'pd' is not defined",
     "output_type": "error",
     "traceback": [
      "\u001b[0;31m---------------------------------------------------------------------------\u001b[0m",
      "\u001b[0;31mNameError\u001b[0m                                 Traceback (most recent call last)",
      "Cell \u001b[0;32mIn[1], line 1\u001b[0m\n\u001b[0;32m----> 1\u001b[0m mt_file \u001b[38;5;241m=\u001b[39m \u001b[43mpd\u001b[49m\u001b[38;5;241m.\u001b[39mread_csv(\u001b[38;5;124m'\u001b[39m\u001b[38;5;124m/DATACSEShare/sanjeet/Dataset/Sign_lanuguage_data_set/AI4Bharat_sentence_MT/Final_Processed_raw_sentences_MT.csv\u001b[39m\u001b[38;5;124m'\u001b[39m)\n",
      "\u001b[0;31mNameError\u001b[0m: name 'pd' is not defined"
     ]
    }
   ],
   "source": [
    "mt_file = pd.read_csv('/DATACSEShare/sanjeet/Dataset/Sign_lanuguage_data_set/AI4Bharat_sentence_MT/Final_Processed_raw_sentences_MT.csv')"
   ]
  },
  {
   "cell_type": "code",
   "execution_count": 9,
   "metadata": {},
   "outputs": [
    {
     "data": {
      "text/html": [
       "<div>\n",
       "<style scoped>\n",
       "    .dataframe tbody tr th:only-of-type {\n",
       "        vertical-align: middle;\n",
       "    }\n",
       "\n",
       "    .dataframe tbody tr th {\n",
       "        vertical-align: top;\n",
       "    }\n",
       "\n",
       "    .dataframe thead th {\n",
       "        text-align: right;\n",
       "    }\n",
       "</style>\n",
       "<table border=\"1\" class=\"dataframe\">\n",
       "  <thead>\n",
       "    <tr style=\"text-align: right;\">\n",
       "      <th></th>\n",
       "      <th>sentence_good</th>\n",
       "      <th>Processed_Sentence</th>\n",
       "      <th>Removed_Word_Count</th>\n",
       "      <th>Removed_Percentage</th>\n",
       "      <th>Matched_Percentage</th>\n",
       "      <th>sentence_id</th>\n",
       "      <th>tokenized_sentences</th>\n",
       "      <th>uids</th>\n",
       "      <th>processed_sentence</th>\n",
       "      <th>name_normalized_sentence</th>\n",
       "      <th>final_sentence</th>\n",
       "      <th>final_sentence_raw</th>\n",
       "    </tr>\n",
       "  </thead>\n",
       "  <tbody>\n",
       "    <tr>\n",
       "      <th>0</th>\n",
       "      <td>Search by name</td>\n",
       "      <td>search name</td>\n",
       "      <td>1</td>\n",
       "      <td>33.333333</td>\n",
       "      <td>100.0</td>\n",
       "      <td>0</td>\n",
       "      <td>['search', 'name']</td>\n",
       "      <td>[['3ppf7DdzKvA', 'LSysLOgMsG8_1'], ['3I1fwIgGX...</td>\n",
       "      <td>search by name</td>\n",
       "      <td>search by name</td>\n",
       "      <td>search by name</td>\n",
       "      <td>search by name</td>\n",
       "    </tr>\n",
       "    <tr>\n",
       "      <th>1</th>\n",
       "      <td>Among those</td>\n",
       "      <td>among</td>\n",
       "      <td>1</td>\n",
       "      <td>50.000000</td>\n",
       "      <td>100.0</td>\n",
       "      <td>1</td>\n",
       "      <td>['among']</td>\n",
       "      <td>[['uBtYh10h6RU_1']]</td>\n",
       "      <td>among those</td>\n",
       "      <td>among those</td>\n",
       "      <td>among those</td>\n",
       "      <td>among those</td>\n",
       "    </tr>\n",
       "    <tr>\n",
       "      <th>2</th>\n",
       "      <td>There is complete panic in the state</td>\n",
       "      <td>complete panic state</td>\n",
       "      <td>5</td>\n",
       "      <td>62.500000</td>\n",
       "      <td>100.0</td>\n",
       "      <td>2</td>\n",
       "      <td>['complete', 'panic', 'state']</td>\n",
       "      <td>[['1wVR6wsoIfw_2'], ['A_ghucv_daw'], ['2p00fwB...</td>\n",
       "      <td>there be complete panic in the state</td>\n",
       "      <td>there be complete panic in the state</td>\n",
       "      <td>there be complete panic in the state</td>\n",
       "      <td>there is complete panic in the state</td>\n",
       "    </tr>\n",
       "    <tr>\n",
       "      <th>3</th>\n",
       "      <td>I am happy in life</td>\n",
       "      <td>happy life</td>\n",
       "      <td>4</td>\n",
       "      <td>66.666667</td>\n",
       "      <td>100.0</td>\n",
       "      <td>3</td>\n",
       "      <td>['happy', 'life']</td>\n",
       "      <td>[['Jarh1WMa868_1', 'O9pRqLLFUEE_1', 'p9SdpeHMk...</td>\n",
       "      <td>i be happy in life</td>\n",
       "      <td>i be happy in life</td>\n",
       "      <td>i be happy in life</td>\n",
       "      <td>i am happy in life</td>\n",
       "    </tr>\n",
       "    <tr>\n",
       "      <th>4</th>\n",
       "      <td>I was like What do you mean</td>\n",
       "      <td>like mean</td>\n",
       "      <td>12</td>\n",
       "      <td>85.714286</td>\n",
       "      <td>100.0</td>\n",
       "      <td>4</td>\n",
       "      <td>['like', 'mean']</td>\n",
       "      <td>[['FCMh8YKvD-8_1', 'T9eBnmIRtqg'], ['2lPUKkvlZ...</td>\n",
       "      <td>i be like what do you mean</td>\n",
       "      <td>i be like what do you mean</td>\n",
       "      <td>i be like what do you mean</td>\n",
       "      <td>i was like what do you mean</td>\n",
       "    </tr>\n",
       "  </tbody>\n",
       "</table>\n",
       "</div>"
      ],
      "text/plain": [
       "                          sentence_good    Processed_Sentence  \\\n",
       "0                        Search by name           search name   \n",
       "1                           Among those                 among   \n",
       "2  There is complete panic in the state  complete panic state   \n",
       "3                    I am happy in life            happy life   \n",
       "4           I was like What do you mean             like mean   \n",
       "\n",
       "   Removed_Word_Count  Removed_Percentage  Matched_Percentage  sentence_id  \\\n",
       "0                   1           33.333333               100.0            0   \n",
       "1                   1           50.000000               100.0            1   \n",
       "2                   5           62.500000               100.0            2   \n",
       "3                   4           66.666667               100.0            3   \n",
       "4                  12           85.714286               100.0            4   \n",
       "\n",
       "              tokenized_sentences  \\\n",
       "0              ['search', 'name']   \n",
       "1                       ['among']   \n",
       "2  ['complete', 'panic', 'state']   \n",
       "3               ['happy', 'life']   \n",
       "4                ['like', 'mean']   \n",
       "\n",
       "                                                uids  \\\n",
       "0  [['3ppf7DdzKvA', 'LSysLOgMsG8_1'], ['3I1fwIgGX...   \n",
       "1                                [['uBtYh10h6RU_1']]   \n",
       "2  [['1wVR6wsoIfw_2'], ['A_ghucv_daw'], ['2p00fwB...   \n",
       "3  [['Jarh1WMa868_1', 'O9pRqLLFUEE_1', 'p9SdpeHMk...   \n",
       "4  [['FCMh8YKvD-8_1', 'T9eBnmIRtqg'], ['2lPUKkvlZ...   \n",
       "\n",
       "                     processed_sentence              name_normalized_sentence  \\\n",
       "0                        search by name                        search by name   \n",
       "1                           among those                           among those   \n",
       "2  there be complete panic in the state  there be complete panic in the state   \n",
       "3                    i be happy in life                    i be happy in life   \n",
       "4            i be like what do you mean            i be like what do you mean   \n",
       "\n",
       "                         final_sentence                    final_sentence_raw  \n",
       "0                        search by name                        search by name  \n",
       "1                           among those                           among those  \n",
       "2  there be complete panic in the state  there is complete panic in the state  \n",
       "3                    i be happy in life                    i am happy in life  \n",
       "4            i be like what do you mean           i was like what do you mean  "
      ]
     },
     "execution_count": 9,
     "metadata": {},
     "output_type": "execute_result"
    }
   ],
   "source": [
    "mt_file.head()"
   ]
  }
 ],
 "metadata": {
  "kernelspec": {
   "display_name": "nmt2",
   "language": "python",
   "name": "python3"
  },
  "language_info": {
   "codemirror_mode": {
    "name": "ipython",
    "version": 3
   },
   "file_extension": ".py",
   "mimetype": "text/x-python",
   "name": "python",
   "nbconvert_exporter": "python",
   "pygments_lexer": "ipython3",
   "version": "3.10.14"
  }
 },
 "nbformat": 4,
 "nbformat_minor": 2
}
